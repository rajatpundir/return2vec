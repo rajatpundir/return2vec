{
 "cells": [
  {
   "cell_type": "code",
   "execution_count": 2,
   "metadata": {},
   "outputs": [
    {
     "name": "stdout",
     "output_type": "stream",
     "text": [
      "[GOOGL] Intraday : 2019-06-28 15:59:59\n",
      "[GOOGL] 1874 values loaded.\n",
      "28 6 2019\n",
      "GOOGL: Write Complete for Training\n",
      "GOOGL: Write Complete for Testing\n",
      "[AAPL] Intraday : 2019-06-28 15:59:59\n",
      "[AAPL] 1935 values loaded.\n",
      "28 6 2019\n",
      "AAPL: Write Complete for Training\n",
      "AAPL: Write Complete for Testing\n",
      "[MSFT] Intraday : 2019-06-28 15:59:59\n",
      "[MSFT] 1935 values loaded.\n",
      "28 6 2019\n",
      "MSFT: Write Complete for Training\n",
      "MSFT: Write Complete for Testing\n",
      "[NSE:INFY] Intraday : 2019-06-28 15:29:00\n",
      "[NSE:INFY] 1857 values loaded.\n",
      "28 6 2019\n",
      "NSE:INFY: Write Complete for Training\n",
      "NSE:INFY: Write Complete for Testing\n",
      "[NSE:LUPIN] Intraday : 2019-06-28 15:29:00\n",
      "[NSE:LUPIN] 1856 values loaded.\n",
      "28 6 2019\n",
      "NSE:LUPIN: Write Complete for Training\n",
      "NSE:LUPIN: Write Complete for Testing\n"
     ]
    }
   ],
   "source": [
    "import os, pandas as pd\n",
    "from stock_keys import api_key\n",
    "from stock_saver import Stock\n",
    "\n",
    "tickers = ['GOOGL', 'AAPL', 'MSFT', 'NSE:INFY', 'NSE:LUPIN']\n",
    "def generate_intraday():\n",
    "    for ticker in tickers:\n",
    "        intraday = False\n",
    "        if intraday:\n",
    "            if os.path.exists('data/' + ticker + '.xlsx'):\n",
    "                os.remove('data/' + ticker + '.xlsx')\n",
    "        st = Stock(ticker, api_key, intraday, None)\n",
    "        df = pd.DataFrame(data=st.df)\n",
    "        d = df.iloc[-1].date.day\n",
    "        m = df.iloc[-1].date.month\n",
    "        y = df.iloc[-1].date.year\n",
    "        print(d, m, y)\n",
    "        log_returns_train = []\n",
    "        log_returns_test = []\n",
    "        previous = -1\n",
    "        for i, row in df.iterrows():\n",
    "            if previous != -1 and previous != 0:\n",
    "                if row.date.day == d and row.date.month == m and row.date.year == y:\n",
    "#                     log_returns_test.append((row.close - previous)/ previous * 100)\n",
    "                    log_returns_test.append(round((row.close - previous)/ previous * 100, 2))\n",
    "                else:\n",
    "#                     log_returns_train.append((row.close - previous)/ previous * 100)\n",
    "                    log_returns_train.append(round((row.close - previous)/ previous * 100, 2))\n",
    "            previous = row.close\n",
    "        filename = ticker + '_returns_train.txt'\n",
    "        f = open(filename, 'w')\n",
    "        for r in log_returns_train:\n",
    "            f.write(str(r) + ' ')\n",
    "        print(ticker + ': Write Complete for Training')\n",
    "        f.close()\n",
    "        filename = ticker + '_returns_test.txt'\n",
    "        f = open(filename, 'w')\n",
    "        for r in log_returns_test:\n",
    "            f.write(str(r) + ' ')\n",
    "        print(ticker + ': Write Complete for Testing')\n",
    "        f.close()\n",
    "\n",
    "generate_intraday()"
   ]
  },
  {
   "cell_type": "code",
   "execution_count": null,
   "metadata": {},
   "outputs": [],
   "source": []
  }
 ],
 "metadata": {
  "kernelspec": {
   "display_name": "Python 3",
   "language": "python",
   "name": "python3"
  },
  "language_info": {
   "codemirror_mode": {
    "name": "ipython",
    "version": 3
   },
   "file_extension": ".py",
   "mimetype": "text/x-python",
   "name": "python",
   "nbconvert_exporter": "python",
   "pygments_lexer": "ipython3",
   "version": "3.7.3"
  }
 },
 "nbformat": 4,
 "nbformat_minor": 2
}
